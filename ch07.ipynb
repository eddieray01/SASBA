{
 "cells": [
  {
   "cell_type": "code",
   "execution_count": null,
   "metadata": {},
   "outputs": [],
   "source": [
    "libname SASBA '/folders/myfolders/SASBA/SASBA_DATA';"
   ]
  },
  {
   "cell_type": "markdown",
   "metadata": {},
   "source": [
    "## Chapter 7 Analysis of Variance (ANOVA)\n",
    "When outcome variable is continuous and distribution of errors is assumed to be normal the General Linear Model can be used to represent relationship between predictor and outcome variable\n",
    "\n",
    "Assessing differences in continuous outcome numeric outcome across two or more populations appropriate analysis is ANOVA\n",
    "\n"
   ]
  }
 ],
 "metadata": {
  "kernelspec": {
   "display_name": "SAS",
   "language": "sas",
   "name": "sas"
  },
  "language_info": {
   "codemirror_mode": "sas",
   "file_extension": ".sas",
   "mimetype": "text/x-sas",
   "name": "sas"
  }
 },
 "nbformat": 4,
 "nbformat_minor": 2
}
